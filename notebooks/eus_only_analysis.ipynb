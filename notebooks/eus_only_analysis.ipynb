{
 "cells": [
  {
   "cell_type": "code",
   "execution_count": 3,
   "metadata": {},
   "outputs": [],
   "source": [
    "import os\n",
    "import re\n",
    "\n",
    "import pandas as pd\n",
    "import scanpy as sc\n",
    "\n",
    "from mgitools.os_helpers import listfiles"
   ]
  },
  {
   "cell_type": "code",
   "execution_count": 4,
   "metadata": {},
   "outputs": [
    {
     "data": {
      "text/plain": [
       "['../data/pdac/wu01',\n",
       " '../data/pdac/wu02',\n",
       " '../data/pdac/wu03',\n",
       " '../data/pdac/wu04',\n",
       " '../data/pdac/wu05',\n",
       " '../data/pdac/wu07',\n",
       " '../data/pdac/wu09',\n",
       " '../data/pdac/wu14',\n",
       " '../data/pdac/wu15',\n",
       " '../data/pdac/wu16',\n",
       " '../data/pdac/wu18',\n",
       " '../data/pdac/wu22',\n",
       " '../data/pdac/wu23',\n",
       " '../data/pdac/wu24',\n",
       " '../data/pdac/wu25',\n",
       " '../data/pdac/wu26',\n",
       " '../data/pdac/wu27',\n",
       " '../data/pdac/wu28',\n",
       " '../data/pdac/wu29',\n",
       " '../data/pdac/wu30',\n",
       " '../data/pdac/wu31',\n",
       " '../data/pdac/wu32']"
      ]
     },
     "execution_count": 4,
     "metadata": {},
     "output_type": "execute_result"
    }
   ],
   "source": [
    "fps = [fp for fp in listfiles('../data/pdac/') if fp.split('/')[-1][:2]=='wu']\n",
    "fps"
   ]
  },
  {
   "cell_type": "code",
   "execution_count": null,
   "metadata": {},
   "outputs": [],
   "source": []
  }
 ],
 "metadata": {
  "kernelspec": {
   "display_name": "Python 3",
   "language": "python",
   "name": "python3"
  },
  "language_info": {
   "codemirror_mode": {
    "name": "ipython",
    "version": 3
   },
   "file_extension": ".py",
   "mimetype": "text/x-python",
   "name": "python",
   "nbconvert_exporter": "python",
   "pygments_lexer": "ipython3",
   "version": "3.7.8"
  }
 },
 "nbformat": 4,
 "nbformat_minor": 4
}
